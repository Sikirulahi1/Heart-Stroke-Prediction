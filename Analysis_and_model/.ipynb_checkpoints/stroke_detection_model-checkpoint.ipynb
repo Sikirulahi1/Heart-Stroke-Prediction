{
 "cells": [
  {
   "cell_type": "code",
   "execution_count": 1,
   "id": "b1a90187",
   "metadata": {},
   "outputs": [],
   "source": [
    "import numpy as np\n",
    "import pandas as pd\n",
    "import matplotlib.pyplot as plt\n",
    "import seaborn as sns"
   ]
  },
  {
   "cell_type": "code",
   "execution_count": 2,
   "id": "898e6e47",
   "metadata": {},
   "outputs": [
    {
     "data": {
      "text/html": [
       "<div>\n",
       "<style scoped>\n",
       "    .dataframe tbody tr th:only-of-type {\n",
       "        vertical-align: middle;\n",
       "    }\n",
       "\n",
       "    .dataframe tbody tr th {\n",
       "        vertical-align: top;\n",
       "    }\n",
       "\n",
       "    .dataframe thead th {\n",
       "        text-align: right;\n",
       "    }\n",
       "</style>\n",
       "<table border=\"1\" class=\"dataframe\">\n",
       "  <thead>\n",
       "    <tr style=\"text-align: right;\">\n",
       "      <th></th>\n",
       "      <th>id</th>\n",
       "      <th>gender</th>\n",
       "      <th>age</th>\n",
       "      <th>hypertension</th>\n",
       "      <th>heart_disease</th>\n",
       "      <th>ever_married</th>\n",
       "      <th>work_type</th>\n",
       "      <th>Residence_type</th>\n",
       "      <th>avg_glucose_level</th>\n",
       "      <th>bmi</th>\n",
       "      <th>smoking_status</th>\n",
       "      <th>stroke</th>\n",
       "    </tr>\n",
       "  </thead>\n",
       "  <tbody>\n",
       "    <tr>\n",
       "      <th>0</th>\n",
       "      <td>9046</td>\n",
       "      <td>Male</td>\n",
       "      <td>67.0</td>\n",
       "      <td>0</td>\n",
       "      <td>1</td>\n",
       "      <td>Yes</td>\n",
       "      <td>Private</td>\n",
       "      <td>Urban</td>\n",
       "      <td>228.69</td>\n",
       "      <td>36.6</td>\n",
       "      <td>formerly smoked</td>\n",
       "      <td>1</td>\n",
       "    </tr>\n",
       "    <tr>\n",
       "      <th>1</th>\n",
       "      <td>51676</td>\n",
       "      <td>Female</td>\n",
       "      <td>61.0</td>\n",
       "      <td>0</td>\n",
       "      <td>0</td>\n",
       "      <td>Yes</td>\n",
       "      <td>Self-employed</td>\n",
       "      <td>Rural</td>\n",
       "      <td>202.21</td>\n",
       "      <td>NaN</td>\n",
       "      <td>never smoked</td>\n",
       "      <td>1</td>\n",
       "    </tr>\n",
       "    <tr>\n",
       "      <th>2</th>\n",
       "      <td>31112</td>\n",
       "      <td>Male</td>\n",
       "      <td>80.0</td>\n",
       "      <td>0</td>\n",
       "      <td>1</td>\n",
       "      <td>Yes</td>\n",
       "      <td>Private</td>\n",
       "      <td>Rural</td>\n",
       "      <td>105.92</td>\n",
       "      <td>32.5</td>\n",
       "      <td>never smoked</td>\n",
       "      <td>1</td>\n",
       "    </tr>\n",
       "    <tr>\n",
       "      <th>3</th>\n",
       "      <td>60182</td>\n",
       "      <td>Female</td>\n",
       "      <td>49.0</td>\n",
       "      <td>0</td>\n",
       "      <td>0</td>\n",
       "      <td>Yes</td>\n",
       "      <td>Private</td>\n",
       "      <td>Urban</td>\n",
       "      <td>171.23</td>\n",
       "      <td>34.4</td>\n",
       "      <td>smokes</td>\n",
       "      <td>1</td>\n",
       "    </tr>\n",
       "    <tr>\n",
       "      <th>4</th>\n",
       "      <td>1665</td>\n",
       "      <td>Female</td>\n",
       "      <td>79.0</td>\n",
       "      <td>1</td>\n",
       "      <td>0</td>\n",
       "      <td>Yes</td>\n",
       "      <td>Self-employed</td>\n",
       "      <td>Rural</td>\n",
       "      <td>174.12</td>\n",
       "      <td>24.0</td>\n",
       "      <td>never smoked</td>\n",
       "      <td>1</td>\n",
       "    </tr>\n",
       "    <tr>\n",
       "      <th>...</th>\n",
       "      <td>...</td>\n",
       "      <td>...</td>\n",
       "      <td>...</td>\n",
       "      <td>...</td>\n",
       "      <td>...</td>\n",
       "      <td>...</td>\n",
       "      <td>...</td>\n",
       "      <td>...</td>\n",
       "      <td>...</td>\n",
       "      <td>...</td>\n",
       "      <td>...</td>\n",
       "      <td>...</td>\n",
       "    </tr>\n",
       "    <tr>\n",
       "      <th>5105</th>\n",
       "      <td>18234</td>\n",
       "      <td>Female</td>\n",
       "      <td>80.0</td>\n",
       "      <td>1</td>\n",
       "      <td>0</td>\n",
       "      <td>Yes</td>\n",
       "      <td>Private</td>\n",
       "      <td>Urban</td>\n",
       "      <td>83.75</td>\n",
       "      <td>NaN</td>\n",
       "      <td>never smoked</td>\n",
       "      <td>0</td>\n",
       "    </tr>\n",
       "    <tr>\n",
       "      <th>5106</th>\n",
       "      <td>44873</td>\n",
       "      <td>Female</td>\n",
       "      <td>81.0</td>\n",
       "      <td>0</td>\n",
       "      <td>0</td>\n",
       "      <td>Yes</td>\n",
       "      <td>Self-employed</td>\n",
       "      <td>Urban</td>\n",
       "      <td>125.20</td>\n",
       "      <td>40.0</td>\n",
       "      <td>never smoked</td>\n",
       "      <td>0</td>\n",
       "    </tr>\n",
       "    <tr>\n",
       "      <th>5107</th>\n",
       "      <td>19723</td>\n",
       "      <td>Female</td>\n",
       "      <td>35.0</td>\n",
       "      <td>0</td>\n",
       "      <td>0</td>\n",
       "      <td>Yes</td>\n",
       "      <td>Self-employed</td>\n",
       "      <td>Rural</td>\n",
       "      <td>82.99</td>\n",
       "      <td>30.6</td>\n",
       "      <td>never smoked</td>\n",
       "      <td>0</td>\n",
       "    </tr>\n",
       "    <tr>\n",
       "      <th>5108</th>\n",
       "      <td>37544</td>\n",
       "      <td>Male</td>\n",
       "      <td>51.0</td>\n",
       "      <td>0</td>\n",
       "      <td>0</td>\n",
       "      <td>Yes</td>\n",
       "      <td>Private</td>\n",
       "      <td>Rural</td>\n",
       "      <td>166.29</td>\n",
       "      <td>25.6</td>\n",
       "      <td>formerly smoked</td>\n",
       "      <td>0</td>\n",
       "    </tr>\n",
       "    <tr>\n",
       "      <th>5109</th>\n",
       "      <td>44679</td>\n",
       "      <td>Female</td>\n",
       "      <td>44.0</td>\n",
       "      <td>0</td>\n",
       "      <td>0</td>\n",
       "      <td>Yes</td>\n",
       "      <td>Govt_job</td>\n",
       "      <td>Urban</td>\n",
       "      <td>85.28</td>\n",
       "      <td>26.2</td>\n",
       "      <td>Unknown</td>\n",
       "      <td>0</td>\n",
       "    </tr>\n",
       "  </tbody>\n",
       "</table>\n",
       "<p>5110 rows × 12 columns</p>\n",
       "</div>"
      ],
      "text/plain": [
       "         id  gender   age  hypertension  heart_disease ever_married  \\\n",
       "0      9046    Male  67.0             0              1          Yes   \n",
       "1     51676  Female  61.0             0              0          Yes   \n",
       "2     31112    Male  80.0             0              1          Yes   \n",
       "3     60182  Female  49.0             0              0          Yes   \n",
       "4      1665  Female  79.0             1              0          Yes   \n",
       "...     ...     ...   ...           ...            ...          ...   \n",
       "5105  18234  Female  80.0             1              0          Yes   \n",
       "5106  44873  Female  81.0             0              0          Yes   \n",
       "5107  19723  Female  35.0             0              0          Yes   \n",
       "5108  37544    Male  51.0             0              0          Yes   \n",
       "5109  44679  Female  44.0             0              0          Yes   \n",
       "\n",
       "          work_type Residence_type  avg_glucose_level   bmi   smoking_status  \\\n",
       "0           Private          Urban             228.69  36.6  formerly smoked   \n",
       "1     Self-employed          Rural             202.21   NaN     never smoked   \n",
       "2           Private          Rural             105.92  32.5     never smoked   \n",
       "3           Private          Urban             171.23  34.4           smokes   \n",
       "4     Self-employed          Rural             174.12  24.0     never smoked   \n",
       "...             ...            ...                ...   ...              ...   \n",
       "5105        Private          Urban              83.75   NaN     never smoked   \n",
       "5106  Self-employed          Urban             125.20  40.0     never smoked   \n",
       "5107  Self-employed          Rural              82.99  30.6     never smoked   \n",
       "5108        Private          Rural             166.29  25.6  formerly smoked   \n",
       "5109       Govt_job          Urban              85.28  26.2          Unknown   \n",
       "\n",
       "      stroke  \n",
       "0          1  \n",
       "1          1  \n",
       "2          1  \n",
       "3          1  \n",
       "4          1  \n",
       "...      ...  \n",
       "5105       0  \n",
       "5106       0  \n",
       "5107       0  \n",
       "5108       0  \n",
       "5109       0  \n",
       "\n",
       "[5110 rows x 12 columns]"
      ]
     },
     "execution_count": 2,
     "metadata": {},
     "output_type": "execute_result"
    }
   ],
   "source": [
    "heart = pd.read_csv(r\"C:\\Users\\user\\Desktop\\Project\\Heart_stroke_prediction\\Dataset\\healthcare-dataset-stroke-data.csv\")\n",
    "heart"
   ]
  },
  {
   "cell_type": "markdown",
   "id": "858c361a",
   "metadata": {},
   "source": [
    "# Missing Values"
   ]
  },
  {
   "cell_type": "code",
   "execution_count": 3,
   "id": "2d8ffb73",
   "metadata": {},
   "outputs": [
    {
     "data": {
      "text/plain": [
       "id                     0\n",
       "gender                 0\n",
       "age                    0\n",
       "hypertension           0\n",
       "heart_disease          0\n",
       "ever_married           0\n",
       "work_type              0\n",
       "Residence_type         0\n",
       "avg_glucose_level      0\n",
       "bmi                  201\n",
       "smoking_status         0\n",
       "stroke                 0\n",
       "dtype: int64"
      ]
     },
     "execution_count": 3,
     "metadata": {},
     "output_type": "execute_result"
    }
   ],
   "source": [
    "# Lets check for the missing values\n",
    "heart.isna().sum()"
   ]
  },
  {
   "cell_type": "code",
   "execution_count": 4,
   "id": "fe38eba2",
   "metadata": {},
   "outputs": [
    {
     "data": {
      "text/plain": [
       "28.1"
      ]
     },
     "execution_count": 4,
     "metadata": {},
     "output_type": "execute_result"
    }
   ],
   "source": [
    "# Lets check for the median of the bmi\n",
    "heart[\"bmi\"].median()"
   ]
  },
  {
   "cell_type": "code",
   "execution_count": 5,
   "id": "b23feaad",
   "metadata": {},
   "outputs": [],
   "source": [
    "# We will now fill it the null values\n",
    "heart[\"bmi\"].fillna(heart[\"bmi\"].median(), inplace = True)"
   ]
  },
  {
   "cell_type": "code",
   "execution_count": 6,
   "id": "8f77195f",
   "metadata": {},
   "outputs": [
    {
     "data": {
      "text/plain": [
       "['gender', 'ever_married', 'work_type', 'Residence_type', 'smoking_status']"
      ]
     },
     "execution_count": 6,
     "metadata": {},
     "output_type": "execute_result"
    }
   ],
   "source": [
    "# Lets check for the categorical variables\n",
    "cat_var = [col for col in heart.columns if heart[col].dtype == \"object\"]\n",
    "cat_var"
   ]
  },
  {
   "cell_type": "code",
   "execution_count": 7,
   "id": "a47846c6",
   "metadata": {},
   "outputs": [
    {
     "name": "stdout",
     "output_type": "stream",
     "text": [
      "<class 'pandas.core.frame.DataFrame'>\n",
      "RangeIndex: 5110 entries, 0 to 5109\n",
      "Data columns (total 12 columns):\n",
      " #   Column             Non-Null Count  Dtype  \n",
      "---  ------             --------------  -----  \n",
      " 0   id                 5110 non-null   int64  \n",
      " 1   gender             5110 non-null   object \n",
      " 2   age                5110 non-null   float64\n",
      " 3   hypertension       5110 non-null   int64  \n",
      " 4   heart_disease      5110 non-null   int64  \n",
      " 5   ever_married       5110 non-null   object \n",
      " 6   work_type          5110 non-null   object \n",
      " 7   Residence_type     5110 non-null   object \n",
      " 8   avg_glucose_level  5110 non-null   float64\n",
      " 9   bmi                5110 non-null   float64\n",
      " 10  smoking_status     5110 non-null   object \n",
      " 11  stroke             5110 non-null   int64  \n",
      "dtypes: float64(3), int64(4), object(5)\n",
      "memory usage: 479.2+ KB\n"
     ]
    }
   ],
   "source": [
    "heart.info()"
   ]
  },
  {
   "cell_type": "code",
   "execution_count": 8,
   "id": "dd9507ad",
   "metadata": {},
   "outputs": [
    {
     "data": {
      "text/plain": [
       "['avg_glucose_level', 'bmi']"
      ]
     },
     "execution_count": 8,
     "metadata": {},
     "output_type": "execute_result"
    }
   ],
   "source": [
    "# Lets check for the numerical values\n",
    "num_var = [col for col in heart.columns if heart[col].dtype == \"float64\"][1:]\n",
    "num_var"
   ]
  },
  {
   "cell_type": "code",
   "execution_count": null,
   "id": "2cb4792c",
   "metadata": {},
   "outputs": [],
   "source": []
  },
  {
   "cell_type": "code",
   "execution_count": null,
   "id": "b08ec3cf",
   "metadata": {},
   "outputs": [],
   "source": []
  },
  {
   "cell_type": "markdown",
   "id": "209886f6",
   "metadata": {},
   "source": [
    "# Encoding"
   ]
  },
  {
   "cell_type": "code",
   "execution_count": 9,
   "id": "1410867c",
   "metadata": {},
   "outputs": [],
   "source": [
    "from sklearn.preprocessing import LabelEncoder\n",
    "cat_dict = {}\n",
    "for col in cat_var:\n",
    "    le = LabelEncoder()\n",
    "    heart[col] = le.fit_transform(heart[col])\n",
    "    col_mapping = dict(zip(le.classes_, le.transform(le.classes_)))\n",
    "    cat_dict[col] = col_mapping\n",
    "    "
   ]
  },
  {
   "cell_type": "code",
   "execution_count": 10,
   "id": "c255ae7c",
   "metadata": {},
   "outputs": [
    {
     "data": {
      "text/plain": [
       "{'gender': {'Female': 0, 'Male': 1, 'Other': 2},\n",
       " 'ever_married': {'No': 0, 'Yes': 1},\n",
       " 'work_type': {'Govt_job': 0,\n",
       "  'Never_worked': 1,\n",
       "  'Private': 2,\n",
       "  'Self-employed': 3,\n",
       "  'children': 4},\n",
       " 'Residence_type': {'Rural': 0, 'Urban': 1},\n",
       " 'smoking_status': {'Unknown': 0,\n",
       "  'formerly smoked': 1,\n",
       "  'never smoked': 2,\n",
       "  'smokes': 3}}"
      ]
     },
     "execution_count": 10,
     "metadata": {},
     "output_type": "execute_result"
    }
   ],
   "source": [
    "cat_dict"
   ]
  },
  {
   "cell_type": "code",
   "execution_count": 11,
   "id": "c753b63f",
   "metadata": {},
   "outputs": [],
   "source": [
    "# Lets check for the numerical Variables"
   ]
  },
  {
   "cell_type": "code",
   "execution_count": 12,
   "id": "a01c6e2d",
   "metadata": {},
   "outputs": [
    {
     "data": {
      "text/plain": [
       "['avg_glucose_level', 'bmi']"
      ]
     },
     "execution_count": 12,
     "metadata": {},
     "output_type": "execute_result"
    }
   ],
   "source": [
    "num_var"
   ]
  },
  {
   "cell_type": "code",
   "execution_count": 13,
   "id": "5e3c515a",
   "metadata": {},
   "outputs": [
    {
     "name": "stdout",
     "output_type": "stream",
     "text": [
      "avg_glucose_level\n",
      "_________________________\n",
      "count    5110.000000\n",
      "mean      106.147677\n",
      "std        45.283560\n",
      "min        55.120000\n",
      "25%        77.245000\n",
      "50%        91.885000\n",
      "75%       114.090000\n",
      "max       271.740000\n",
      "Name: avg_glucose_level, dtype: float64\n"
     ]
    },
    {
     "data": {
      "image/png": "[encoded data removed]",
      "text/plain": [
       "<Figure size 640x480 with 1 Axes>"
      ]
     },
     "metadata": {},
     "output_type": "display_data"
    },
    {
     "name": "stdout",
     "output_type": "stream",
     "text": [
      "bmi\n",
      "_________________________\n",
      "count    5110.000000\n",
      "mean       28.862035\n",
      "std         7.699562\n",
      "min        10.300000\n",
      "25%        23.800000\n",
      "50%        28.100000\n",
      "75%        32.800000\n",
      "max        97.600000\n",
      "Name: bmi, dtype: float64\n"
     ]
    },
    {
     "data": {
      "image/png": "[encoded data removed]",
      "text/plain": [
       "<Figure size 640x480 with 1 Axes>"
      ]
     },
     "metadata": {},
     "output_type": "display_data"
    }
   ],
   "source": [
    "# Now Lets Check for outliers\n",
    "\n",
    "for col in num_var:\n",
    "    # Lets check for the distribution\n",
    "    print(col)\n",
    "    print(\"_________________________\")\n",
    "    print(heart[col].describe())\n",
    "    sns.boxplot(data = heart, x = col)\n",
    "    plt.show()"
   ]
  },
  {
   "cell_type": "code",
   "execution_count": 14,
   "id": "0803e2fd",
   "metadata": {},
   "outputs": [],
   "source": [
    "# Since the bmi and avg_glucose has many outliers\n",
    "# Lets remove the Outliers"
   ]
  },
  {
   "cell_type": "code",
   "execution_count": 15,
   "id": "58d883a6",
   "metadata": {},
   "outputs": [],
   "source": [
    "def remove_outliers(dataset, num_var):\n",
    "    for col in num_var:\n",
    "        Q3 = dataset[col].quantile(0.75)\n",
    "        Q1 =dataset[col].quantile(0.25)\n",
    "        IQR = Q3 - Q1\n",
    "        upper_range = Q3 + (1.5 * IQR)\n",
    "        lower_range = Q1 - (1.5 * IQR)\n",
    "        dataset.loc[dataset[col] >= upper_range, col] = upper_range\n",
    "        dataset.loc[dataset[col] <= lower_range, col] = lower_range\n",
    "    return dataset"
   ]
  },
  {
   "cell_type": "code",
   "execution_count": 16,
   "id": "e1f41832",
   "metadata": {},
   "outputs": [
    {
     "name": "stdout",
     "output_type": "stream",
     "text": [
      "46.29999999999999 10.300000000000006\n"
     ]
    }
   ],
   "source": [
    "Q3 = heart[\"bmi\"].quantile(0.75)\n",
    "Q1 =heart[\"bmi\"].quantile(0.25)\n",
    "IQR = Q3 - Q1\n",
    "upper_range = Q3 + (1.5 * IQR)\n",
    "lower_range = Q1 - (1.5 * IQR)\n",
    "print(upper_range, lower_range)"
   ]
  },
  {
   "cell_type": "code",
   "execution_count": 17,
   "id": "b995b8ae",
   "metadata": {},
   "outputs": [
    {
     "name": "stdout",
     "output_type": "stream",
     "text": [
      "169.35750000000002 21.977500000000006\n"
     ]
    }
   ],
   "source": [
    "Q3 = heart[\"avg_glucose_level\"].quantile(0.75)\n",
    "Q1 =heart[\"avg_glucose_level\"].quantile(0.25)\n",
    "IQR = Q3 - Q1\n",
    "upper_range = Q3 + (1.5 * IQR)\n",
    "lower_range = Q1 - (1.5 * IQR)\n",
    "print(upper_range, lower_range)"
   ]
  },
  {
   "cell_type": "code",
   "execution_count": 18,
   "id": "7661faa4",
   "metadata": {},
   "outputs": [
    {
     "data": {
      "text/html": [
       "<div>\n",
       "<style scoped>\n",
       "    .dataframe tbody tr th:only-of-type {\n",
       "        vertical-align: middle;\n",
       "    }\n",
       "\n",
       "    .dataframe tbody tr th {\n",
       "        vertical-align: top;\n",
       "    }\n",
       "\n",
       "    .dataframe thead th {\n",
       "        text-align: right;\n",
       "    }\n",
       "</style>\n",
       "<table border=\"1\" class=\"dataframe\">\n",
       "  <thead>\n",
       "    <tr style=\"text-align: right;\">\n",
       "      <th></th>\n",
       "      <th>id</th>\n",
       "      <th>gender</th>\n",
       "      <th>age</th>\n",
       "      <th>hypertension</th>\n",
       "      <th>heart_disease</th>\n",
       "      <th>ever_married</th>\n",
       "      <th>work_type</th>\n",
       "      <th>Residence_type</th>\n",
       "      <th>avg_glucose_level</th>\n",
       "      <th>bmi</th>\n",
       "      <th>smoking_status</th>\n",
       "      <th>stroke</th>\n",
       "    </tr>\n",
       "  </thead>\n",
       "  <tbody>\n",
       "    <tr>\n",
       "      <th>0</th>\n",
       "      <td>9046</td>\n",
       "      <td>1</td>\n",
       "      <td>67.0</td>\n",
       "      <td>0</td>\n",
       "      <td>1</td>\n",
       "      <td>1</td>\n",
       "      <td>2</td>\n",
       "      <td>1</td>\n",
       "      <td>169.3575</td>\n",
       "      <td>36.6</td>\n",
       "      <td>1</td>\n",
       "      <td>1</td>\n",
       "    </tr>\n",
       "    <tr>\n",
       "      <th>1</th>\n",
       "      <td>51676</td>\n",
       "      <td>0</td>\n",
       "      <td>61.0</td>\n",
       "      <td>0</td>\n",
       "      <td>0</td>\n",
       "      <td>1</td>\n",
       "      <td>3</td>\n",
       "      <td>0</td>\n",
       "      <td>169.3575</td>\n",
       "      <td>28.1</td>\n",
       "      <td>2</td>\n",
       "      <td>1</td>\n",
       "    </tr>\n",
       "    <tr>\n",
       "      <th>2</th>\n",
       "      <td>31112</td>\n",
       "      <td>1</td>\n",
       "      <td>80.0</td>\n",
       "      <td>0</td>\n",
       "      <td>1</td>\n",
       "      <td>1</td>\n",
       "      <td>2</td>\n",
       "      <td>0</td>\n",
       "      <td>105.9200</td>\n",
       "      <td>32.5</td>\n",
       "      <td>2</td>\n",
       "      <td>1</td>\n",
       "    </tr>\n",
       "    <tr>\n",
       "      <th>3</th>\n",
       "      <td>60182</td>\n",
       "      <td>0</td>\n",
       "      <td>49.0</td>\n",
       "      <td>0</td>\n",
       "      <td>0</td>\n",
       "      <td>1</td>\n",
       "      <td>2</td>\n",
       "      <td>1</td>\n",
       "      <td>169.3575</td>\n",
       "      <td>34.4</td>\n",
       "      <td>3</td>\n",
       "      <td>1</td>\n",
       "    </tr>\n",
       "    <tr>\n",
       "      <th>4</th>\n",
       "      <td>1665</td>\n",
       "      <td>0</td>\n",
       "      <td>79.0</td>\n",
       "      <td>1</td>\n",
       "      <td>0</td>\n",
       "      <td>1</td>\n",
       "      <td>3</td>\n",
       "      <td>0</td>\n",
       "      <td>169.3575</td>\n",
       "      <td>24.0</td>\n",
       "      <td>2</td>\n",
       "      <td>1</td>\n",
       "    </tr>\n",
       "    <tr>\n",
       "      <th>...</th>\n",
       "      <td>...</td>\n",
       "      <td>...</td>\n",
       "      <td>...</td>\n",
       "      <td>...</td>\n",
       "      <td>...</td>\n",
       "      <td>...</td>\n",
       "      <td>...</td>\n",
       "      <td>...</td>\n",
       "      <td>...</td>\n",
       "      <td>...</td>\n",
       "      <td>...</td>\n",
       "      <td>...</td>\n",
       "    </tr>\n",
       "    <tr>\n",
       "      <th>5105</th>\n",
       "      <td>18234</td>\n",
       "      <td>0</td>\n",
       "      <td>80.0</td>\n",
       "      <td>1</td>\n",
       "      <td>0</td>\n",
       "      <td>1</td>\n",
       "      <td>2</td>\n",
       "      <td>1</td>\n",
       "      <td>83.7500</td>\n",
       "      <td>28.1</td>\n",
       "      <td>2</td>\n",
       "      <td>0</td>\n",
       "    </tr>\n",
       "    <tr>\n",
       "      <th>5106</th>\n",
       "      <td>44873</td>\n",
       "      <td>0</td>\n",
       "      <td>81.0</td>\n",
       "      <td>0</td>\n",
       "      <td>0</td>\n",
       "      <td>1</td>\n",
       "      <td>3</td>\n",
       "      <td>1</td>\n",
       "      <td>125.2000</td>\n",
       "      <td>40.0</td>\n",
       "      <td>2</td>\n",
       "      <td>0</td>\n",
       "    </tr>\n",
       "    <tr>\n",
       "      <th>5107</th>\n",
       "      <td>19723</td>\n",
       "      <td>0</td>\n",
       "      <td>35.0</td>\n",
       "      <td>0</td>\n",
       "      <td>0</td>\n",
       "      <td>1</td>\n",
       "      <td>3</td>\n",
       "      <td>0</td>\n",
       "      <td>82.9900</td>\n",
       "      <td>30.6</td>\n",
       "      <td>2</td>\n",
       "      <td>0</td>\n",
       "    </tr>\n",
       "    <tr>\n",
       "      <th>5108</th>\n",
       "      <td>37544</td>\n",
       "      <td>1</td>\n",
       "      <td>51.0</td>\n",
       "      <td>0</td>\n",
       "      <td>0</td>\n",
       "      <td>1</td>\n",
       "      <td>2</td>\n",
       "      <td>0</td>\n",
       "      <td>166.2900</td>\n",
       "      <td>25.6</td>\n",
       "      <td>1</td>\n",
       "      <td>0</td>\n",
       "    </tr>\n",
       "    <tr>\n",
       "      <th>5109</th>\n",
       "      <td>44679</td>\n",
       "      <td>0</td>\n",
       "      <td>44.0</td>\n",
       "      <td>0</td>\n",
       "      <td>0</td>\n",
       "      <td>1</td>\n",
       "      <td>0</td>\n",
       "      <td>1</td>\n",
       "      <td>85.2800</td>\n",
       "      <td>26.2</td>\n",
       "      <td>0</td>\n",
       "      <td>0</td>\n",
       "    </tr>\n",
       "  </tbody>\n",
       "</table>\n",
       "<p>5110 rows × 12 columns</p>\n",
       "</div>"
      ],
      "text/plain": [
       "         id  gender   age  hypertension  heart_disease  ever_married  \\\n",
       "0      9046       1  67.0             0              1             1   \n",
       "1     51676       0  61.0             0              0             1   \n",
       "2     31112       1  80.0             0              1             1   \n",
       "3     60182       0  49.0             0              0             1   \n",
       "4      1665       0  79.0             1              0             1   \n",
       "...     ...     ...   ...           ...            ...           ...   \n",
       "5105  18234       0  80.0             1              0             1   \n",
       "5106  44873       0  81.0             0              0             1   \n",
       "5107  19723       0  35.0             0              0             1   \n",
       "5108  37544       1  51.0             0              0             1   \n",
       "5109  44679       0  44.0             0              0             1   \n",
       "\n",
       "      work_type  Residence_type  avg_glucose_level   bmi  smoking_status  \\\n",
       "0             2               1           169.3575  36.6               1   \n",
       "1             3               0           169.3575  28.1               2   \n",
       "2             2               0           105.9200  32.5               2   \n",
       "3             2               1           169.3575  34.4               3   \n",
       "4             3               0           169.3575  24.0               2   \n",
       "...         ...             ...                ...   ...             ...   \n",
       "5105          2               1            83.7500  28.1               2   \n",
       "5106          3               1           125.2000  40.0               2   \n",
       "5107          3               0            82.9900  30.6               2   \n",
       "5108          2               0           166.2900  25.6               1   \n",
       "5109          0               1            85.2800  26.2               0   \n",
       "\n",
       "      stroke  \n",
       "0          1  \n",
       "1          1  \n",
       "2          1  \n",
       "3          1  \n",
       "4          1  \n",
       "...      ...  \n",
       "5105       0  \n",
       "5106       0  \n",
       "5107       0  \n",
       "5108       0  \n",
       "5109       0  \n",
       "\n",
       "[5110 rows x 12 columns]"
      ]
     },
     "execution_count": 18,
     "metadata": {},
     "output_type": "execute_result"
    }
   ],
   "source": [
    "remove_outliers(heart, num_var)"
   ]
  },
  {
   "cell_type": "code",
   "execution_count": 19,
   "id": "345791a8",
   "metadata": {},
   "outputs": [
    {
     "data": {
      "text/plain": [
       "21      46.3\n",
       "66      46.3\n",
       "113     46.3\n",
       "190     46.0\n",
       "254     46.3\n",
       "        ... \n",
       "4952    46.3\n",
       "4976    46.0\n",
       "5009    46.3\n",
       "5057    46.3\n",
       "5103    46.3\n",
       "Name: bmi, Length: 133, dtype: float64"
      ]
     },
     "execution_count": 19,
     "metadata": {},
     "output_type": "execute_result"
    }
   ],
   "source": [
    "heart.loc[heart[\"bmi\"] >= 46, \"bmi\"]"
   ]
  },
  {
   "cell_type": "code",
   "execution_count": 20,
   "id": "64710c5f",
   "metadata": {},
   "outputs": [
    {
     "name": "stdout",
     "output_type": "stream",
     "text": [
      "avg_glucose_level\n",
      "_________________________\n",
      "count    5110.000000\n",
      "mean      100.996204\n",
      "std        33.214738\n",
      "min        55.120000\n",
      "25%        77.245000\n",
      "50%        91.885000\n",
      "75%       114.090000\n",
      "max       169.357500\n",
      "Name: avg_glucose_level, dtype: float64\n"
     ]
    },
    {
     "data": {
      "image/png": "[encoded data removed]",
      "text/plain": [
       "<Figure size 640x480 with 1 Axes>"
      ]
     },
     "metadata": {},
     "output_type": "display_data"
    },
    {
     "name": "stdout",
     "output_type": "stream",
     "text": [
      "bmi\n",
      "_________________________\n",
      "count    5110.000000\n",
      "mean       28.690411\n",
      "std         7.120858\n",
      "min        10.300000\n",
      "25%        23.800000\n",
      "50%        28.100000\n",
      "75%        32.800000\n",
      "max        46.300000\n",
      "Name: bmi, dtype: float64\n"
     ]
    },
    {
     "data": {
      "image/png": "[encoded data removed]",
      "text/plain": [
       "<Figure size 640x480 with 1 Axes>"
      ]
     },
     "metadata": {},
     "output_type": "display_data"
    }
   ],
   "source": [
    "# Now Lets Check for outliers\n",
    "\n",
    "for col in num_var:\n",
    "    # Lets check for the distribution\n",
    "    print(col)\n",
    "    print(\"_________________________\")\n",
    "    print(heart[col].describe())\n",
    "    sns.boxplot(data = heart, x = col)\n",
    "    plt.show()"
   ]
  },
  {
   "cell_type": "code",
   "execution_count": 21,
   "id": "a10f9e78",
   "metadata": {},
   "outputs": [
    {
     "data": {
      "text/plain": [
       "['gender',\n",
       " 'age',\n",
       " 'hypertension',\n",
       " 'heart_disease',\n",
       " 'ever_married',\n",
       " 'work_type',\n",
       " 'Residence_type',\n",
       " 'avg_glucose_level',\n",
       " 'bmi',\n",
       " 'smoking_status']"
      ]
     },
     "execution_count": 21,
     "metadata": {},
     "output_type": "execute_result"
    }
   ],
   "source": [
    "# Let me chack for the maximum and minimum for all tha values\n",
    "num_col = [col for col in heart.columns][1:-1]\n",
    "num_col"
   ]
  },
  {
   "cell_type": "code",
   "execution_count": 22,
   "id": "ef344006",
   "metadata": {},
   "outputs": [
    {
     "name": "stdout",
     "output_type": "stream",
     "text": [
      "{'gender': {'max': 2, 'min': 0}, 'age': {'max': 82.0, 'min': 0.08}, 'hypertension': {'max': 1, 'min': 0}, 'heart_disease': {'max': 1, 'min': 0}, 'ever_married': {'max': 1, 'min': 0}, 'work_type': {'max': 4, 'min': 0}, 'Residence_type': {'max': 1, 'min': 0}, 'avg_glucose_level': {'max': 169.35750000000002, 'min': 55.12}, 'bmi': {'max': 46.29999999999999, 'min': 10.300000000000006}, 'smoking_status': {'max': 3, 'min': 0}}\n"
     ]
    }
   ],
   "source": [
    "# to get the minimum and maximum values for the dictionaries.   \n",
    "num_dict = dict()\n",
    "for col in num_col:\n",
    "    min_ = heart[col].min()\n",
    "    max_ = heart[col].max()\n",
    "    num_dict[col] = {\"max\" : max_,\n",
    "                     \"min\" : min_}\n",
    "    # print(min_, max_)\n",
    "print(num_dict)"
   ]
  },
  {
   "cell_type": "code",
   "execution_count": 23,
   "id": "cfd811ed",
   "metadata": {},
   "outputs": [
    {
     "data": {
      "text/plain": [
       "{'gender': {'Female': 0, 'Male': 1, 'Other': 2},\n",
       " 'ever_married': {'No': 0, 'Yes': 1},\n",
       " 'work_type': {'Govt_job': 0,\n",
       "  'Never_worked': 1,\n",
       "  'Private': 2,\n",
       "  'Self-employed': 3,\n",
       "  'children': 4},\n",
       " 'Residence_type': {'Rural': 0, 'Urban': 1},\n",
       " 'smoking_status': {'Unknown': 0,\n",
       "  'formerly smoked': 1,\n",
       "  'never smoked': 2,\n",
       "  'smokes': 3}}"
      ]
     },
     "execution_count": 23,
     "metadata": {},
     "output_type": "execute_result"
    }
   ],
   "source": [
    "cat_dict"
   ]
  },
  {
   "cell_type": "code",
   "execution_count": 24,
   "id": "4fb3ca11",
   "metadata": {},
   "outputs": [
    {
     "data": {
      "text/plain": [
       "{'gender': {'max': 2, 'min': 0},\n",
       " 'age': {'max': 82.0, 'min': 0.08},\n",
       " 'hypertension': {'max': 1, 'min': 0},\n",
       " 'heart_disease': {'max': 1, 'min': 0},\n",
       " 'ever_married': {'max': 1, 'min': 0},\n",
       " 'work_type': {'max': 4, 'min': 0},\n",
       " 'Residence_type': {'max': 1, 'min': 0},\n",
       " 'avg_glucose_level': {'max': 169.35750000000002, 'min': 55.12},\n",
       " 'bmi': {'max': 46.29999999999999, 'min': 10.300000000000006},\n",
       " 'smoking_status': {'max': 3, 'min': 0}}"
      ]
     },
     "execution_count": 24,
     "metadata": {},
     "output_type": "execute_result"
    }
   ],
   "source": [
    "num_dict"
   ]
  },
  {
   "cell_type": "markdown",
   "id": "6fe07f97",
   "metadata": {},
   "source": [
    "# Building Custom Cross validation Function\n",
    "1. Log down continous numerical features\n",
    "2. Scaling\n",
    "3. Apply StratifiedShuffleSplit to preserve the percentage of each class\n",
    "4. Oversample and Undersample to handle imbalance"
   ]
  },
  {
   "cell_type": "code",
   "execution_count": 25,
   "id": "ea180eff",
   "metadata": {},
   "outputs": [],
   "source": [
    "from sklearn.linear_model import LogisticRegression\n",
    "from sklearn.model_selection import train_test_split, GridSearchCV, StratifiedKFold\n",
    "from sklearn.preprocessing import MinMaxScaler\n",
    "from imblearn.over_sampling import SMOTE\n",
    "from imblearn.pipeline import Pipeline as imbpipeline\n",
    "from imblearn.pipeline import Pipeline\n",
    "from sklearn.model_selection import StratifiedShuffleSplit\n",
    "from imblearn.over_sampling import RandomOverSampler,SMOTE\n",
    "from imblearn.under_sampling import RandomUnderSampler\n",
    "from sklearn.model_selection import cross_validate\n",
    "from sklearn.model_selection import RepeatedStratifiedKFold\n",
    "from sklearn.model_selection import cross_val_score\n",
    "from sklearn.metrics import roc_auc_score\n",
    "from sklearn.ensemble import RandomForestClassifier\n",
    "\n",
    "splitter = StratifiedShuffleSplit(n_splits=10,random_state = 42,test_size=0.2)"
   ]
  },
  {
   "cell_type": "code",
   "execution_count": 26,
   "id": "1b953e42",
   "metadata": {},
   "outputs": [],
   "source": [
    "def cross_validate_model(dataset, model, log_features = False, scaler = MinMaxScaler(), sampler = SMOTE(), scoring = \"roc_auc\"):\n",
    "    if log_features == True:\n",
    "        features_to_log = ['age', 'avg_glucose_level', 'bmi']\n",
    "        for col in features_to_log:\n",
    "            dataset[col] = np.log(dataset[col])\n",
    "    \n",
    "    X = dataset.drop(['id', 'stroke'], axis = 1)\n",
    "    Y = dataset.stroke\n",
    "    x_cols = X.columns\n",
    "    for features in x_cols:\n",
    "        X[features] = scaler.fit_transform(X[[features]])\n",
    "    \n",
    "    splitter = StratifiedShuffleSplit(n_splits=5,random_state = 42,test_size=0.2)\n",
    "    for train, test in splitter.split(X, Y):\n",
    "        x_train = X.loc[train]\n",
    "        y_train = Y.loc[train]\n",
    "        x_test = X.loc[test]\n",
    "        y_test = Y.loc[test]\n",
    "    undersample = RandomUnderSampler()\n",
    "    \n",
    "    # oversample = SMOTE()\n",
    "    steps = [(\"o\", sampler), (\"u\", undersample)]\n",
    "    pipeline = Pipeline(steps = steps)\n",
    "    x, y = pipeline.fit_resample(x_train, y_train)\n",
    "    score = cross_validate(model, x, y, scoring = \"roc_auc\")\n",
    "    # print(\"F1 Cv score:\",score)\n",
    "    return score"
   ]
  },
  {
   "cell_type": "code",
   "execution_count": 27,
   "id": "be4dfd5c",
   "metadata": {},
   "outputs": [
    {
     "data": {
      "text/plain": [
       "array([0.84830096, 0.84807132, 0.84600782, 0.84357972, 0.84914625])"
      ]
     },
     "execution_count": 27,
     "metadata": {},
     "output_type": "execute_result"
    }
   ],
   "source": [
    "cross_validate_model(heart, LogisticRegression())['test_score']"
   ]
  },
  {
   "cell_type": "code",
   "execution_count": 28,
   "id": "f9d14c01",
   "metadata": {},
   "outputs": [
    {
     "data": {
      "text/plain": [
       "array([0.99056972, 0.99379878, 0.99255804, 0.99038802, 0.99369485])"
      ]
     },
     "execution_count": 28,
     "metadata": {},
     "output_type": "execute_result"
    }
   ],
   "source": [
    "cross_validate_model(heart, RandomForestClassifier())['test_score']"
   ]
  },
  {
   "cell_type": "code",
   "execution_count": null,
   "id": "d51e6a51",
   "metadata": {},
   "outputs": [],
   "source": []
  },
  {
   "cell_type": "code",
   "execution_count": null,
   "id": "4b8ea779",
   "metadata": {},
   "outputs": [],
   "source": []
  },
  {
   "cell_type": "markdown",
   "id": "a6283b27",
   "metadata": {},
   "source": [
    "# Training The Data"
   ]
  },
  {
   "cell_type": "code",
   "execution_count": 29,
   "id": "cd9790db",
   "metadata": {},
   "outputs": [],
   "source": [
    "def train_model(dataset, model, log_features = False, scaler = MinMaxScaler()):\n",
    "    if log_features == True:\n",
    "        features_to_log = ['age', 'avg_glucose_level', 'bmi']\n",
    "        for col in features_to_log:\n",
    "            dataset[col] = np.log(dataset[col])\n",
    "    \n",
    "    X = dataset.drop(['id', 'stroke'], axis = 1)\n",
    "    Y = dataset.stroke\n",
    "    x_cols = X.columns\n",
    "    for features in x_cols:\n",
    "        X[features] = scaler.fit_transform(X[[features]])\n",
    "        \n",
    "    x_train, x_test, y_train, y_test = train_test_split(X, Y, test_size = 0.2, random_state = 42)\n",
    "\n",
    "    undersample = RandomUnderSampler()\n",
    "    oversample = SMOTE()\n",
    "    # oversample = SMOTE()\n",
    "    steps = [(\"o\", oversample), (\"u\", undersample)]\n",
    "    pipeline = Pipeline(steps = steps)\n",
    "    x, y = pipeline.fit_resample(x_train, y_train)\n",
    "    model.fit(x, y)\n",
    "    preds = model.predict(x_test)\n",
    "    score = model.score(x_test, y_test)\n",
    "    \n",
    "    return model, preds"
   ]
  },
  {
   "cell_type": "code",
   "execution_count": 30,
   "id": "4103612f",
   "metadata": {},
   "outputs": [
    {
     "data": {
      "text/plain": [
       "array([0, 0, 0, ..., 0, 0, 0], dtype=int64)"
      ]
     },
     "execution_count": 30,
     "metadata": {},
     "output_type": "execute_result"
    }
   ],
   "source": [
    "model, preds = train_model(heart, RandomForestClassifier())\n",
    "preds"
   ]
  },
  {
   "cell_type": "code",
   "execution_count": 31,
   "id": "8cf1148b",
   "metadata": {},
   "outputs": [],
   "source": [
    "import pickle"
   ]
  },
  {
   "cell_type": "code",
   "execution_count": 32,
   "id": "a816d311",
   "metadata": {},
   "outputs": [],
   "source": [
    "filename = 'model.pkl'\n",
    "pickle.dump(model, open(filename, 'wb'))"
   ]
  },
  {
   "cell_type": "code",
   "execution_count": 33,
   "id": "de6abc01",
   "metadata": {},
   "outputs": [],
   "source": [
    "import json\n",
    "with open('min_max_dict.json', 'wb') as fp:\n",
    "     pickle.dump(num_dict, fp, protocol=pickle.HIGHEST_PROTOCOL)"
   ]
  },
  {
   "cell_type": "code",
   "execution_count": 34,
   "id": "5fc09be2",
   "metadata": {},
   "outputs": [],
   "source": [
    "with open('cat_dict.json', 'wb') as fp:\n",
    "     pickle.dump(cat_dict, fp, protocol=pickle.HIGHEST_PROTOCOL)"
   ]
  },
  {
   "cell_type": "code",
   "execution_count": 35,
   "id": "3523da5c",
   "metadata": {},
   "outputs": [
    {
     "data": {
      "text/plain": [
       "{'gender': {'Female': 0, 'Male': 1, 'Other': 2},\n",
       " 'ever_married': {'No': 0, 'Yes': 1},\n",
       " 'work_type': {'Govt_job': 0,\n",
       "  'Never_worked': 1,\n",
       "  'Private': 2,\n",
       "  'Self-employed': 3,\n",
       "  'children': 4},\n",
       " 'Residence_type': {'Rural': 0, 'Urban': 1},\n",
       " 'smoking_status': {'Unknown': 0,\n",
       "  'formerly smoked': 1,\n",
       "  'never smoked': 2,\n",
       "  'smokes': 3}}"
      ]
     },
     "execution_count": 35,
     "metadata": {},
     "output_type": "execute_result"
    }
   ],
   "source": [
    "cat_dict"
   ]
  },
  {
   "cell_type": "code",
   "execution_count": 36,
   "id": "312a4330",
   "metadata": {},
   "outputs": [],
   "source": [
    "# Load\n",
    "\n",
    "with open(r'min_max_dict.json', 'rb') as fp:\n",
    "    f = pickle.load(fp)"
   ]
  },
  {
   "cell_type": "code",
   "execution_count": 37,
   "id": "a405703f",
   "metadata": {},
   "outputs": [
    {
     "data": {
      "text/plain": [
       "{'gender': {'max': 2, 'min': 0},\n",
       " 'age': {'max': 82.0, 'min': 0.08},\n",
       " 'hypertension': {'max': 1, 'min': 0},\n",
       " 'heart_disease': {'max': 1, 'min': 0},\n",
       " 'ever_married': {'max': 1, 'min': 0},\n",
       " 'work_type': {'max': 4, 'min': 0},\n",
       " 'Residence_type': {'max': 1, 'min': 0},\n",
       " 'avg_glucose_level': {'max': 169.35750000000002, 'min': 55.12},\n",
       " 'bmi': {'max': 46.29999999999999, 'min': 10.300000000000006},\n",
       " 'smoking_status': {'max': 3, 'min': 0}}"
      ]
     },
     "execution_count": 37,
     "metadata": {},
     "output_type": "execute_result"
    }
   ],
   "source": [
    "f"
   ]
  },
  {
   "cell_type": "code",
   "execution_count": null,
   "id": "eec20e30",
   "metadata": {},
   "outputs": [],
   "source": []
  }
 ],
 "metadata": {
  "kernelspec": {
   "display_name": "Python 3 (ipykernel)",
   "language": "python",
   "name": "python3"
  },
  "language_info": {
   "codemirror_mode": {
    "name": "ipython",
    "version": 3
   },
   "file_extension": ".py",
   "mimetype": "text/x-python",
   "name": "python",
   "nbconvert_exporter": "python",
   "pygments_lexer": "ipython3",
   "version": "3.9.7"
  }
 },
 "nbformat": 4,
 "nbformat_minor": 5
}
